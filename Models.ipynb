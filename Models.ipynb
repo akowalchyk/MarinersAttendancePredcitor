{
 "cells": [
  {
   "cell_type": "markdown",
   "source": [
    "# Model Formation"
   ],
   "metadata": {}
  },
  {
   "cell_type": "code",
   "execution_count": 1,
   "source": [
    "\r\n",
    "import pandas as pd\r\n",
    "import numpy as np\r\n",
    "import matplotlib.pyplot as plt\r\n",
    "import seaborn as sns\r\n",
    "\r\n",
    "from sklearn.preprocessing import LabelEncoder\r\n",
    "from sklearn.ensemble import RandomForestRegressor, GradientBoostingRegressor\r\n",
    "from sklearn.model_selection import train_test_split\r\n",
    "from sklearn.metrics import r2_score\r\n",
    "\r\n",
    "from sklearn.ensemble import RandomForestRegressor\r\n",
    "\r\n",
    "from sklearn.metrics import r2_score\r\n",
    "\r\n",
    "import pickle"
   ],
   "outputs": [],
   "metadata": {}
  },
  {
   "cell_type": "code",
   "execution_count": 2,
   "source": [
    "df = pd.read_csv(\"data.csv\")"
   ],
   "outputs": [],
   "metadata": {}
  },
  {
   "cell_type": "code",
   "execution_count": 3,
   "source": [
    "display(df)"
   ],
   "outputs": [
    {
     "output_type": "display_data",
     "data": {
      "text/plain": [
       "                   date opponent  div_rank   gb  attendance   cLI  \\\n",
       "0        Monday, Apr 11      MIN         4 -2.5       57806  0.78   \n",
       "1       Tuesday, Apr 12      MIN         4 -2.0       13489  0.86   \n",
       "2     Wednesday, Apr 13      MIN         4 -3.0       16207  0.91   \n",
       "3        Friday, Apr 15      MIL         4 -2.0       16969  0.86   \n",
       "4      Saturday, Apr 16      MIL         4 -2.5       32990  0.92   \n",
       "...                 ...      ...       ...  ...         ...   ...   \n",
       "2117   Saturday, Jul 24      OAK         3 -7.0       30843  1.21   \n",
       "2118     Sunday, Jul 25      OAK         3 -7.0       21501  1.32   \n",
       "2119     Monday, Jul 26      HOU         3 -6.0       15162  1.41   \n",
       "2120    Tuesday, Jul 27      HOU         3 -7.0       18930  1.51   \n",
       "2121  Wednesday, Jul 28      HOU         3 -8.0       18908  1.42   \n",
       "\n",
       "      winning_percentage  year  total_games_played  weekday month  night_game  \\\n",
       "0                  0.167  1994                   5        1   Apr           1   \n",
       "1                  0.286  1994                   6        1   Apr           1   \n",
       "2                  0.250  1994                   7        1   Apr           0   \n",
       "3                  0.333  1994                   8        0   Apr           1   \n",
       "4                  0.300  1994                   9        0   Apr           1   \n",
       "...                  ...   ...                 ...      ...   ...         ...   \n",
       "2117               0.535  2021                  98        0   Jul           1   \n",
       "2118               0.540  2021                  99        0   Jul           0   \n",
       "2119               0.545  2021                 100        1   Jul           1   \n",
       "2120               0.539  2021                 101        1   Jul           1   \n",
       "2121               0.534  2021                 102        1   Jul           0   \n",
       "\n",
       "      pop_opp  \n",
       "0           0  \n",
       "1           0  \n",
       "2           0  \n",
       "3           0  \n",
       "4           0  \n",
       "...       ...  \n",
       "2117        0  \n",
       "2118        0  \n",
       "2119        0  \n",
       "2120        0  \n",
       "2121        0  \n",
       "\n",
       "[2122 rows x 13 columns]"
      ],
      "text/html": [
       "<div>\n",
       "<style scoped>\n",
       "    .dataframe tbody tr th:only-of-type {\n",
       "        vertical-align: middle;\n",
       "    }\n",
       "\n",
       "    .dataframe tbody tr th {\n",
       "        vertical-align: top;\n",
       "    }\n",
       "\n",
       "    .dataframe thead th {\n",
       "        text-align: right;\n",
       "    }\n",
       "</style>\n",
       "<table border=\"1\" class=\"dataframe\">\n",
       "  <thead>\n",
       "    <tr style=\"text-align: right;\">\n",
       "      <th></th>\n",
       "      <th>date</th>\n",
       "      <th>opponent</th>\n",
       "      <th>div_rank</th>\n",
       "      <th>gb</th>\n",
       "      <th>attendance</th>\n",
       "      <th>cLI</th>\n",
       "      <th>winning_percentage</th>\n",
       "      <th>year</th>\n",
       "      <th>total_games_played</th>\n",
       "      <th>weekday</th>\n",
       "      <th>month</th>\n",
       "      <th>night_game</th>\n",
       "      <th>pop_opp</th>\n",
       "    </tr>\n",
       "  </thead>\n",
       "  <tbody>\n",
       "    <tr>\n",
       "      <th>0</th>\n",
       "      <td>Monday, Apr 11</td>\n",
       "      <td>MIN</td>\n",
       "      <td>4</td>\n",
       "      <td>-2.5</td>\n",
       "      <td>57806</td>\n",
       "      <td>0.78</td>\n",
       "      <td>0.167</td>\n",
       "      <td>1994</td>\n",
       "      <td>5</td>\n",
       "      <td>1</td>\n",
       "      <td>Apr</td>\n",
       "      <td>1</td>\n",
       "      <td>0</td>\n",
       "    </tr>\n",
       "    <tr>\n",
       "      <th>1</th>\n",
       "      <td>Tuesday, Apr 12</td>\n",
       "      <td>MIN</td>\n",
       "      <td>4</td>\n",
       "      <td>-2.0</td>\n",
       "      <td>13489</td>\n",
       "      <td>0.86</td>\n",
       "      <td>0.286</td>\n",
       "      <td>1994</td>\n",
       "      <td>6</td>\n",
       "      <td>1</td>\n",
       "      <td>Apr</td>\n",
       "      <td>1</td>\n",
       "      <td>0</td>\n",
       "    </tr>\n",
       "    <tr>\n",
       "      <th>2</th>\n",
       "      <td>Wednesday, Apr 13</td>\n",
       "      <td>MIN</td>\n",
       "      <td>4</td>\n",
       "      <td>-3.0</td>\n",
       "      <td>16207</td>\n",
       "      <td>0.91</td>\n",
       "      <td>0.250</td>\n",
       "      <td>1994</td>\n",
       "      <td>7</td>\n",
       "      <td>1</td>\n",
       "      <td>Apr</td>\n",
       "      <td>0</td>\n",
       "      <td>0</td>\n",
       "    </tr>\n",
       "    <tr>\n",
       "      <th>3</th>\n",
       "      <td>Friday, Apr 15</td>\n",
       "      <td>MIL</td>\n",
       "      <td>4</td>\n",
       "      <td>-2.0</td>\n",
       "      <td>16969</td>\n",
       "      <td>0.86</td>\n",
       "      <td>0.333</td>\n",
       "      <td>1994</td>\n",
       "      <td>8</td>\n",
       "      <td>0</td>\n",
       "      <td>Apr</td>\n",
       "      <td>1</td>\n",
       "      <td>0</td>\n",
       "    </tr>\n",
       "    <tr>\n",
       "      <th>4</th>\n",
       "      <td>Saturday, Apr 16</td>\n",
       "      <td>MIL</td>\n",
       "      <td>4</td>\n",
       "      <td>-2.5</td>\n",
       "      <td>32990</td>\n",
       "      <td>0.92</td>\n",
       "      <td>0.300</td>\n",
       "      <td>1994</td>\n",
       "      <td>9</td>\n",
       "      <td>0</td>\n",
       "      <td>Apr</td>\n",
       "      <td>1</td>\n",
       "      <td>0</td>\n",
       "    </tr>\n",
       "    <tr>\n",
       "      <th>...</th>\n",
       "      <td>...</td>\n",
       "      <td>...</td>\n",
       "      <td>...</td>\n",
       "      <td>...</td>\n",
       "      <td>...</td>\n",
       "      <td>...</td>\n",
       "      <td>...</td>\n",
       "      <td>...</td>\n",
       "      <td>...</td>\n",
       "      <td>...</td>\n",
       "      <td>...</td>\n",
       "      <td>...</td>\n",
       "      <td>...</td>\n",
       "    </tr>\n",
       "    <tr>\n",
       "      <th>2117</th>\n",
       "      <td>Saturday, Jul 24</td>\n",
       "      <td>OAK</td>\n",
       "      <td>3</td>\n",
       "      <td>-7.0</td>\n",
       "      <td>30843</td>\n",
       "      <td>1.21</td>\n",
       "      <td>0.535</td>\n",
       "      <td>2021</td>\n",
       "      <td>98</td>\n",
       "      <td>0</td>\n",
       "      <td>Jul</td>\n",
       "      <td>1</td>\n",
       "      <td>0</td>\n",
       "    </tr>\n",
       "    <tr>\n",
       "      <th>2118</th>\n",
       "      <td>Sunday, Jul 25</td>\n",
       "      <td>OAK</td>\n",
       "      <td>3</td>\n",
       "      <td>-7.0</td>\n",
       "      <td>21501</td>\n",
       "      <td>1.32</td>\n",
       "      <td>0.540</td>\n",
       "      <td>2021</td>\n",
       "      <td>99</td>\n",
       "      <td>0</td>\n",
       "      <td>Jul</td>\n",
       "      <td>0</td>\n",
       "      <td>0</td>\n",
       "    </tr>\n",
       "    <tr>\n",
       "      <th>2119</th>\n",
       "      <td>Monday, Jul 26</td>\n",
       "      <td>HOU</td>\n",
       "      <td>3</td>\n",
       "      <td>-6.0</td>\n",
       "      <td>15162</td>\n",
       "      <td>1.41</td>\n",
       "      <td>0.545</td>\n",
       "      <td>2021</td>\n",
       "      <td>100</td>\n",
       "      <td>1</td>\n",
       "      <td>Jul</td>\n",
       "      <td>1</td>\n",
       "      <td>0</td>\n",
       "    </tr>\n",
       "    <tr>\n",
       "      <th>2120</th>\n",
       "      <td>Tuesday, Jul 27</td>\n",
       "      <td>HOU</td>\n",
       "      <td>3</td>\n",
       "      <td>-7.0</td>\n",
       "      <td>18930</td>\n",
       "      <td>1.51</td>\n",
       "      <td>0.539</td>\n",
       "      <td>2021</td>\n",
       "      <td>101</td>\n",
       "      <td>1</td>\n",
       "      <td>Jul</td>\n",
       "      <td>1</td>\n",
       "      <td>0</td>\n",
       "    </tr>\n",
       "    <tr>\n",
       "      <th>2121</th>\n",
       "      <td>Wednesday, Jul 28</td>\n",
       "      <td>HOU</td>\n",
       "      <td>3</td>\n",
       "      <td>-8.0</td>\n",
       "      <td>18908</td>\n",
       "      <td>1.42</td>\n",
       "      <td>0.534</td>\n",
       "      <td>2021</td>\n",
       "      <td>102</td>\n",
       "      <td>1</td>\n",
       "      <td>Jul</td>\n",
       "      <td>0</td>\n",
       "      <td>0</td>\n",
       "    </tr>\n",
       "  </tbody>\n",
       "</table>\n",
       "<p>2122 rows × 13 columns</p>\n",
       "</div>"
      ]
     },
     "metadata": {}
    }
   ],
   "metadata": {
    "tags": []
   }
  },
  {
   "cell_type": "markdown",
   "source": [
    "### Transforming String Attributes"
   ],
   "metadata": {}
  },
  {
   "cell_type": "code",
   "execution_count": 4,
   "source": [
    "df = df.drop(['date'], axis=1)\r\n",
    "le = LabelEncoder()\r\n",
    "\r\n",
    "df['opponent'] = le.fit_transform(df.opponent)\r\n",
    "df['month'] = le.fit_transform(df.month)\r\n",
    "\r\n",
    "display(df)"
   ],
   "outputs": [
    {
     "output_type": "display_data",
     "data": {
      "text/plain": [
       "      opponent  div_rank   gb  attendance   cLI  winning_percentage  year  \\\n",
       "0           19         4 -2.5       57806  0.78               0.167  1994   \n",
       "1           19         4 -2.0       13489  0.86               0.286  1994   \n",
       "2           19         4 -3.0       16207  0.91               0.250  1994   \n",
       "3           18         4 -2.0       16969  0.86               0.333  1994   \n",
       "4           18         4 -2.5       32990  0.92               0.300  1994   \n",
       "...        ...       ...  ...         ...   ...                 ...   ...   \n",
       "2117        23         3 -7.0       30843  1.21               0.535  2021   \n",
       "2118        23         3 -7.0       21501  1.32               0.540  2021   \n",
       "2119        13         3 -6.0       15162  1.41               0.545  2021   \n",
       "2120        13         3 -7.0       18930  1.51               0.539  2021   \n",
       "2121        13         3 -8.0       18908  1.42               0.534  2021   \n",
       "\n",
       "      total_games_played  weekday  month  night_game  pop_opp  \n",
       "0                      5        1      0           1        0  \n",
       "1                      6        1      0           1        0  \n",
       "2                      7        1      0           0        0  \n",
       "3                      8        0      0           1        0  \n",
       "4                      9        0      0           1        0  \n",
       "...                  ...      ...    ...         ...      ...  \n",
       "2117                  98        0      2           1        0  \n",
       "2118                  99        0      2           0        0  \n",
       "2119                 100        1      2           1        0  \n",
       "2120                 101        1      2           1        0  \n",
       "2121                 102        1      2           0        0  \n",
       "\n",
       "[2122 rows x 12 columns]"
      ],
      "text/html": [
       "<div>\n",
       "<style scoped>\n",
       "    .dataframe tbody tr th:only-of-type {\n",
       "        vertical-align: middle;\n",
       "    }\n",
       "\n",
       "    .dataframe tbody tr th {\n",
       "        vertical-align: top;\n",
       "    }\n",
       "\n",
       "    .dataframe thead th {\n",
       "        text-align: right;\n",
       "    }\n",
       "</style>\n",
       "<table border=\"1\" class=\"dataframe\">\n",
       "  <thead>\n",
       "    <tr style=\"text-align: right;\">\n",
       "      <th></th>\n",
       "      <th>opponent</th>\n",
       "      <th>div_rank</th>\n",
       "      <th>gb</th>\n",
       "      <th>attendance</th>\n",
       "      <th>cLI</th>\n",
       "      <th>winning_percentage</th>\n",
       "      <th>year</th>\n",
       "      <th>total_games_played</th>\n",
       "      <th>weekday</th>\n",
       "      <th>month</th>\n",
       "      <th>night_game</th>\n",
       "      <th>pop_opp</th>\n",
       "    </tr>\n",
       "  </thead>\n",
       "  <tbody>\n",
       "    <tr>\n",
       "      <th>0</th>\n",
       "      <td>19</td>\n",
       "      <td>4</td>\n",
       "      <td>-2.5</td>\n",
       "      <td>57806</td>\n",
       "      <td>0.78</td>\n",
       "      <td>0.167</td>\n",
       "      <td>1994</td>\n",
       "      <td>5</td>\n",
       "      <td>1</td>\n",
       "      <td>0</td>\n",
       "      <td>1</td>\n",
       "      <td>0</td>\n",
       "    </tr>\n",
       "    <tr>\n",
       "      <th>1</th>\n",
       "      <td>19</td>\n",
       "      <td>4</td>\n",
       "      <td>-2.0</td>\n",
       "      <td>13489</td>\n",
       "      <td>0.86</td>\n",
       "      <td>0.286</td>\n",
       "      <td>1994</td>\n",
       "      <td>6</td>\n",
       "      <td>1</td>\n",
       "      <td>0</td>\n",
       "      <td>1</td>\n",
       "      <td>0</td>\n",
       "    </tr>\n",
       "    <tr>\n",
       "      <th>2</th>\n",
       "      <td>19</td>\n",
       "      <td>4</td>\n",
       "      <td>-3.0</td>\n",
       "      <td>16207</td>\n",
       "      <td>0.91</td>\n",
       "      <td>0.250</td>\n",
       "      <td>1994</td>\n",
       "      <td>7</td>\n",
       "      <td>1</td>\n",
       "      <td>0</td>\n",
       "      <td>0</td>\n",
       "      <td>0</td>\n",
       "    </tr>\n",
       "    <tr>\n",
       "      <th>3</th>\n",
       "      <td>18</td>\n",
       "      <td>4</td>\n",
       "      <td>-2.0</td>\n",
       "      <td>16969</td>\n",
       "      <td>0.86</td>\n",
       "      <td>0.333</td>\n",
       "      <td>1994</td>\n",
       "      <td>8</td>\n",
       "      <td>0</td>\n",
       "      <td>0</td>\n",
       "      <td>1</td>\n",
       "      <td>0</td>\n",
       "    </tr>\n",
       "    <tr>\n",
       "      <th>4</th>\n",
       "      <td>18</td>\n",
       "      <td>4</td>\n",
       "      <td>-2.5</td>\n",
       "      <td>32990</td>\n",
       "      <td>0.92</td>\n",
       "      <td>0.300</td>\n",
       "      <td>1994</td>\n",
       "      <td>9</td>\n",
       "      <td>0</td>\n",
       "      <td>0</td>\n",
       "      <td>1</td>\n",
       "      <td>0</td>\n",
       "    </tr>\n",
       "    <tr>\n",
       "      <th>...</th>\n",
       "      <td>...</td>\n",
       "      <td>...</td>\n",
       "      <td>...</td>\n",
       "      <td>...</td>\n",
       "      <td>...</td>\n",
       "      <td>...</td>\n",
       "      <td>...</td>\n",
       "      <td>...</td>\n",
       "      <td>...</td>\n",
       "      <td>...</td>\n",
       "      <td>...</td>\n",
       "      <td>...</td>\n",
       "    </tr>\n",
       "    <tr>\n",
       "      <th>2117</th>\n",
       "      <td>23</td>\n",
       "      <td>3</td>\n",
       "      <td>-7.0</td>\n",
       "      <td>30843</td>\n",
       "      <td>1.21</td>\n",
       "      <td>0.535</td>\n",
       "      <td>2021</td>\n",
       "      <td>98</td>\n",
       "      <td>0</td>\n",
       "      <td>2</td>\n",
       "      <td>1</td>\n",
       "      <td>0</td>\n",
       "    </tr>\n",
       "    <tr>\n",
       "      <th>2118</th>\n",
       "      <td>23</td>\n",
       "      <td>3</td>\n",
       "      <td>-7.0</td>\n",
       "      <td>21501</td>\n",
       "      <td>1.32</td>\n",
       "      <td>0.540</td>\n",
       "      <td>2021</td>\n",
       "      <td>99</td>\n",
       "      <td>0</td>\n",
       "      <td>2</td>\n",
       "      <td>0</td>\n",
       "      <td>0</td>\n",
       "    </tr>\n",
       "    <tr>\n",
       "      <th>2119</th>\n",
       "      <td>13</td>\n",
       "      <td>3</td>\n",
       "      <td>-6.0</td>\n",
       "      <td>15162</td>\n",
       "      <td>1.41</td>\n",
       "      <td>0.545</td>\n",
       "      <td>2021</td>\n",
       "      <td>100</td>\n",
       "      <td>1</td>\n",
       "      <td>2</td>\n",
       "      <td>1</td>\n",
       "      <td>0</td>\n",
       "    </tr>\n",
       "    <tr>\n",
       "      <th>2120</th>\n",
       "      <td>13</td>\n",
       "      <td>3</td>\n",
       "      <td>-7.0</td>\n",
       "      <td>18930</td>\n",
       "      <td>1.51</td>\n",
       "      <td>0.539</td>\n",
       "      <td>2021</td>\n",
       "      <td>101</td>\n",
       "      <td>1</td>\n",
       "      <td>2</td>\n",
       "      <td>1</td>\n",
       "      <td>0</td>\n",
       "    </tr>\n",
       "    <tr>\n",
       "      <th>2121</th>\n",
       "      <td>13</td>\n",
       "      <td>3</td>\n",
       "      <td>-8.0</td>\n",
       "      <td>18908</td>\n",
       "      <td>1.42</td>\n",
       "      <td>0.534</td>\n",
       "      <td>2021</td>\n",
       "      <td>102</td>\n",
       "      <td>1</td>\n",
       "      <td>2</td>\n",
       "      <td>0</td>\n",
       "      <td>0</td>\n",
       "    </tr>\n",
       "  </tbody>\n",
       "</table>\n",
       "<p>2122 rows × 12 columns</p>\n",
       "</div>"
      ]
     },
     "metadata": {}
    }
   ],
   "metadata": {}
  },
  {
   "cell_type": "markdown",
   "source": [
    "### Checking for NULL Values"
   ],
   "metadata": {}
  },
  {
   "cell_type": "code",
   "execution_count": 5,
   "source": [
    "df = df.dropna()\r\n",
    "print(df.shape)\r\n",
    "print(df.isnull().sum())"
   ],
   "outputs": [
    {
     "output_type": "stream",
     "name": "stdout",
     "text": [
      "(2121, 12)\n",
      "opponent              0\n",
      "div_rank              0\n",
      "gb                    0\n",
      "attendance            0\n",
      "cLI                   0\n",
      "winning_percentage    0\n",
      "year                  0\n",
      "total_games_played    0\n",
      "weekday               0\n",
      "month                 0\n",
      "night_game            0\n",
      "pop_opp               0\n",
      "dtype: int64\n"
     ]
    }
   ],
   "metadata": {}
  },
  {
   "cell_type": "markdown",
   "source": [
    "### Generating New HeatMap"
   ],
   "metadata": {}
  },
  {
   "cell_type": "code",
   "execution_count": 6,
   "source": [
    "corr = df.corr()\r\n",
    "\r\n",
    "# Generate a mask for the upper triangle\r\n",
    "mask = np.zeros_like(corr, dtype=np.bool)\r\n",
    "mask[np.triu_indices_from(mask)] = True\r\n",
    "\r\n",
    "sns.heatmap(corr, annot=True, linewidth=0.5, mask=mask, annot_kws={\"size\": 8})"
   ],
   "outputs": [
    {
     "output_type": "execute_result",
     "data": {
      "text/plain": [
       "<AxesSubplot:>"
      ]
     },
     "metadata": {},
     "execution_count": 6
    },
    {
     "output_type": "display_data",
     "data": {
      "text/plain": [
       "<Figure size 432x288 with 2 Axes>"
      ],
      "image/png": "[encoded data removed]"
     },
     "metadata": {
      "needs_background": "light"
     }
    }
   ],
   "metadata": {}
  },
  {
   "cell_type": "markdown",
   "source": [
    "### Generating X_train and y_train"
   ],
   "metadata": {}
  },
  {
   "cell_type": "code",
   "execution_count": 7,
   "source": [
    "X = df.drop([\"attendance\"], axis=1)\r\n",
    "y = df[\"attendance\"]"
   ],
   "outputs": [],
   "metadata": {}
  },
  {
   "cell_type": "code",
   "execution_count": 8,
   "source": [
    "X_train, X_test, y_train, y_test = train_test_split(X, y, test_size = 0.3, random_state = 86)"
   ],
   "outputs": [],
   "metadata": {}
  },
  {
   "cell_type": "markdown",
   "source": [
    "## Generating Evaluation and Feature Importance Functions"
   ],
   "metadata": {}
  },
  {
   "cell_type": "code",
   "execution_count": 9,
   "source": [
    "\r\n",
    "def evaluate(model):    \r\n",
    "    \r\n",
    "    # fitting data and getting r2 score    \r\n",
    "    model.fit(X_train, y_train)\r\n",
    "    pred = model.predict(X_test)\r\n",
    "    score = r2_score(y_test, pred) \r\n",
    "    print(\"R^2 score:\", score)\r\n",
    "    \r\n",
    "    # generating scatter plot for residuals\r\n",
    "    df = pd.DataFrame(columns=['attendance', 'predictions', 'residuals'])\r\n",
    "    df.attendance = y\r\n",
    "    df.predictions = model.predict(X)\r\n",
    "    df.residuals = df.attendance - df.predictions\r\n",
    "    df.plot(x='predictions', y='residuals', kind='scatter')\r\n",
    "    plt.show()"
   ],
   "outputs": [],
   "metadata": {}
  },
  {
   "cell_type": "code",
   "execution_count": 10,
   "source": [
    "\r\n",
    "def feat_imp(model):\r\n",
    "    feature_importances = pd.DataFrame(model.feature_importances_, index = X.columns, columns=['importance']\r\n",
    "                                      ).sort_values('importance', ascending=False)\r\n",
    "    print (feature_importances)"
   ],
   "outputs": [],
   "metadata": {}
  },
  {
   "cell_type": "markdown",
   "source": [
    "## Generating Random Forest Regessor"
   ],
   "metadata": {}
  },
  {
   "cell_type": "code",
   "execution_count": 11,
   "source": [
    "rf = RandomForestRegressor(n_estimators=200)"
   ],
   "outputs": [],
   "metadata": {}
  },
  {
   "cell_type": "code",
   "execution_count": 12,
   "source": [
    "evaluate(rf)"
   ],
   "outputs": [
    {
     "output_type": "stream",
     "name": "stdout",
     "text": [
      "R^2 score: 0.7207537771759558\n"
     ]
    },
    {
     "output_type": "display_data",
     "data": {
      "text/plain": [
       "<Figure size 432x288 with 1 Axes>"
      ],
      "image/png": "[encoded data removed]"
     },
     "metadata": {
      "needs_background": "light"
     }
    }
   ],
   "metadata": {}
  },
  {
   "cell_type": "code",
   "execution_count": 13,
   "source": [
    "feat_imp(rf)"
   ],
   "outputs": [
    {
     "output_type": "stream",
     "name": "stdout",
     "text": [
      "                    importance\n",
      "year                  0.378251\n",
      "weekday               0.144103\n",
      "winning_percentage    0.125350\n",
      "total_games_played    0.121156\n",
      "cLI                   0.047270\n",
      "pop_opp               0.039777\n",
      "month                 0.039556\n",
      "gb                    0.038000\n",
      "opponent              0.036000\n",
      "night_game            0.020716\n",
      "div_rank              0.009820\n"
     ]
    }
   ],
   "metadata": {}
  },
  {
   "cell_type": "code",
   "execution_count": 14,
   "source": [
    "gbr = GradientBoostingRegressor(n_estimators =200)"
   ],
   "outputs": [],
   "metadata": {}
  },
  {
   "cell_type": "code",
   "execution_count": 15,
   "source": [
    "evaluate(gbr)"
   ],
   "outputs": [
    {
     "output_type": "stream",
     "name": "stdout",
     "text": [
      "R^2 score: 0.7445696770645112\n"
     ]
    },
    {
     "output_type": "display_data",
     "data": {
      "text/plain": [
       "<Figure size 432x288 with 1 Axes>"
      ],
      "image/png": "[encoded data removed]"
     },
     "metadata": {
      "needs_background": "light"
     }
    }
   ],
   "metadata": {}
  },
  {
   "cell_type": "code",
   "execution_count": 16,
   "source": [
    "feat_imp(gbr)"
   ],
   "outputs": [
    {
     "output_type": "stream",
     "name": "stdout",
     "text": [
      "                    importance\n",
      "year                  0.437688\n",
      "weekday               0.178474\n",
      "total_games_played    0.109869\n",
      "winning_percentage    0.104597\n",
      "pop_opp               0.049116\n",
      "month                 0.036330\n",
      "cLI                   0.026489\n",
      "gb                    0.019523\n",
      "opponent              0.019500\n",
      "night_game            0.014917\n",
      "div_rank              0.003497\n"
     ]
    }
   ],
   "metadata": {}
  },
  {
   "cell_type": "markdown",
   "source": [
    "### feature importance analysis\r\n",
    "- The year attribute seems to be heavily important in both relatively successful models created. This as a mariners fan I can fully undertand as there are seamingly great years and bad years, in which attendance stays relatively the same throughout the year.\r\n",
    "- The divison rank attribute has absolutly no importance towards our model, which is suprising partly because the descrete differences the box plot from the EDA protioned showed in population, as well as the fact that when the mariners are in 1st place I would predict a heavy attendance. "
   ],
   "metadata": {}
  },
  {
   "cell_type": "markdown",
   "source": [
    "### Dropping attributes with least importance for conveniance of app deployment"
   ],
   "metadata": {}
  },
  {
   "cell_type": "code",
   "execution_count": 17,
   "source": [
    "X = df.drop([\"attendance\", \"cLI\", \"month\", \"gb\", \"opponent\", \"night_game\", \"div_rank\"], axis=1)\r\n",
    "y = df[\"attendance\"]\r\n",
    "X_train, X_test, y_train, y_test = train_test_split(X, y, test_size = 0.3, random_state = 54)"
   ],
   "outputs": [],
   "metadata": {}
  },
  {
   "cell_type": "code",
   "execution_count": 18,
   "source": [
    "model_dep = GradientBoostingRegressor(n_estimators =200)\r\n",
    "model_dep.fit(X_train,y_train)\r\n",
    "evaluate(model_dep)"
   ],
   "outputs": [
    {
     "output_type": "stream",
     "name": "stdout",
     "text": [
      "R^2 score: 0.7231610907113732\n"
     ]
    },
    {
     "output_type": "display_data",
     "data": {
      "text/plain": [
       "<Figure size 432x288 with 1 Axes>"
      ],
      "image/png": "[encoded data removed]"
     },
     "metadata": {
      "needs_background": "light"
     }
    }
   ],
   "metadata": {}
  },
  {
   "cell_type": "markdown",
   "source": [
    "### Notes\r\n",
    "Removing Less important features drops our r2 score only by roughly 0.2 - 0.3, which shouldn't effect our deployed model too greatly."
   ],
   "metadata": {}
  },
  {
   "cell_type": "markdown",
   "source": [
    "## Dummy Prediction and checking for order of attributes"
   ],
   "metadata": {}
  },
  {
   "cell_type": "code",
   "execution_count": 19,
   "source": [
    "print(model_dep.predict([['.700', '2020', '60','1','1']]))\r\n",
    "print(X_train.first)"
   ],
   "outputs": [
    {
     "output_type": "stream",
     "name": "stdout",
     "text": [
      "[24204.59131471]\n",
      "<bound method NDFrame.first of       winning_percentage  year  total_games_played  weekday  pop_opp\n",
      "390                0.525  1999                  58        0        1\n",
      "1921               0.571  2018                  41        1        0\n",
      "496                0.579  2000                 106        1        1\n",
      "1481               0.481  2012                 132        0        0\n",
      "645                0.631  2002                  83        1        0\n",
      "...                  ...   ...                 ...      ...      ...\n",
      "1033               0.510  2007                  50        0        0\n",
      "2065               0.420  2019                 161        0        0\n",
      "1927               0.608  2018                  50        0        0\n",
      "1047               0.560  2007                  74        1        1\n",
      "898                0.437  2005                 102        0        0\n",
      "\n",
      "[1484 rows x 5 columns]>\n"
     ]
    }
   ],
   "metadata": {}
  },
  {
   "cell_type": "code",
   "execution_count": 20,
   "source": [
    "pickle.dump(model_dep, open('model.p','wb'))\r\n",
    "model = pickle.load(open('model.p','rb'))"
   ],
   "outputs": [],
   "metadata": {}
  }
 ],
 "metadata": {
  "interpreter": {
   "hash": "2955fcff6d51291144bd61f1869afa89edde486f89f727a8bc03f10046e1aae1"
  },
  "kernelspec": {
   "name": "python3",
   "display_name": "Python 3.8.3 64-bit ('base': conda)"
  },
  "language_info": {
   "name": "python",
   "version": "3.8.3",
   "mimetype": "text/x-python",
   "codemirror_mode": {
    "name": "ipython",
    "version": 3
   },
   "pygments_lexer": "ipython3",
   "nbconvert_exporter": "python",
   "file_extension": ".py"
  },
  "orig_nbformat": 2
 },
 "nbformat": 4,
 "nbformat_minor": 2
}